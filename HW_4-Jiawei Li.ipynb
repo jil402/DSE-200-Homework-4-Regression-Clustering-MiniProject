{
 "cells": [
  {
   "cell_type": "markdown",
   "id": "1c39a495",
   "metadata": {
    "tags": []
   },
   "source": [
    "# MAS DSE 200: Homework 4 - Regression, Clustering, MiniProject\n",
    "\n",
    "#### Tasks: \n",
    "\n",
    "- Linear Regression on Boston Housing dataset\n",
    "- Clustering on Weather dataset\n",
    "- MiniProject homework problems\n",
    "- Submit this Jupyter notebook to \"Homework 4\"\n",
    "\n",
    "#### Due date: Sunday 12/03/2023 at 11:59 PM PST\n",
    "\n",
    "---\n",
    "\n",
    "Remember: when in doubt, read the documentation first.\n",
    "\n",
    "Python - https://docs.python.org/3/\n",
    "\n",
    "NumPy - https://numpy.org/doc/stable/\n",
    "\n",
    "pandas - https://pandas.pydata.org/docs/\n",
    "\n",
    "matplotlib - https://matplotlib.org/stable/contents.html\n",
    "\n",
    "scikit-learn - https://scikit-learn.org/stable/modules/classes.html"
   ]
  },
  {
   "cell_type": "code",
   "execution_count": 1,
   "id": "ff6fa07a",
   "metadata": {},
   "outputs": [],
   "source": [
    "seed = 42"
   ]
  },
  {
   "cell_type": "markdown",
   "id": "31021b5e",
   "metadata": {},
   "source": [
    "### Import libraries/functions"
   ]
  },
  {
   "cell_type": "code",
   "execution_count": 2,
   "id": "0872df23",
   "metadata": {},
   "outputs": [],
   "source": [
    "import pandas as pd\n",
    "import numpy as np\n",
    "import matplotlib.pyplot as plt\n",
    "import seaborn as sns\n",
    "\n",
    "from sklearn.linear_model import LinearRegression\n",
    "from sklearn.model_selection import train_test_split\n",
    "from sklearn.preprocessing import StandardScaler\n",
    "from sklearn.metrics import r2_score, mean_squared_error\n",
    "from sklearn.cluster import KMeans"
   ]
  },
  {
   "cell_type": "markdown",
   "id": "5a41c2b3",
   "metadata": {},
   "source": [
    "## Part 1 - Linear Regression - 10 points"
   ]
  },
  {
   "cell_type": "markdown",
   "id": "cf30e404",
   "metadata": {},
   "source": [
    "### 1. Exploration - (1 point)\n",
    "\n",
    "Read the data from Boston_Housing.csv file and store it in a dataframe called \"housing\"\n"
   ]
  },
  {
   "cell_type": "markdown",
   "id": "ee3ac78d-569a-46ae-b1b1-4a037d4dbf8d",
   "metadata": {},
   "source": [
    "**1.1 Print the number of rows in the dataframe (0.33 points)**"
   ]
  },
  {
   "cell_type": "code",
   "execution_count": 3,
   "id": "7efd894f-aa35-43ec-b591-a31008ab47da",
   "metadata": {},
   "outputs": [
    {
     "data": {
      "text/html": [
       "<div>\n",
       "<style scoped>\n",
       "    .dataframe tbody tr th:only-of-type {\n",
       "        vertical-align: middle;\n",
       "    }\n",
       "\n",
       "    .dataframe tbody tr th {\n",
       "        vertical-align: top;\n",
       "    }\n",
       "\n",
       "    .dataframe thead th {\n",
       "        text-align: right;\n",
       "    }\n",
       "</style>\n",
       "<table border=\"1\" class=\"dataframe\">\n",
       "  <thead>\n",
       "    <tr style=\"text-align: right;\">\n",
       "      <th></th>\n",
       "      <th>CRIM</th>\n",
       "      <th>ZN</th>\n",
       "      <th>INDUS</th>\n",
       "      <th>CHAS</th>\n",
       "      <th>NOX</th>\n",
       "      <th>RM</th>\n",
       "      <th>AGE</th>\n",
       "      <th>DIS</th>\n",
       "      <th>RAD</th>\n",
       "      <th>TAX</th>\n",
       "      <th>PTRATIO</th>\n",
       "      <th>BLACK</th>\n",
       "      <th>LSTAT</th>\n",
       "      <th>MV</th>\n",
       "    </tr>\n",
       "  </thead>\n",
       "  <tbody>\n",
       "    <tr>\n",
       "      <th>0</th>\n",
       "      <td>0.00632</td>\n",
       "      <td>18.0</td>\n",
       "      <td>2.31</td>\n",
       "      <td>0</td>\n",
       "      <td>0.538</td>\n",
       "      <td>6.575</td>\n",
       "      <td>65.2</td>\n",
       "      <td>4.0900</td>\n",
       "      <td>1</td>\n",
       "      <td>296.0</td>\n",
       "      <td>15.3</td>\n",
       "      <td>396.90</td>\n",
       "      <td>4.98</td>\n",
       "      <td>24.0</td>\n",
       "    </tr>\n",
       "    <tr>\n",
       "      <th>1</th>\n",
       "      <td>0.02731</td>\n",
       "      <td>0.0</td>\n",
       "      <td>7.07</td>\n",
       "      <td>0</td>\n",
       "      <td>0.469</td>\n",
       "      <td>6.421</td>\n",
       "      <td>78.9</td>\n",
       "      <td>4.9671</td>\n",
       "      <td>2</td>\n",
       "      <td>242.0</td>\n",
       "      <td>17.8</td>\n",
       "      <td>396.90</td>\n",
       "      <td>9.14</td>\n",
       "      <td>21.6</td>\n",
       "    </tr>\n",
       "    <tr>\n",
       "      <th>2</th>\n",
       "      <td>0.02729</td>\n",
       "      <td>0.0</td>\n",
       "      <td>7.07</td>\n",
       "      <td>0</td>\n",
       "      <td>0.469</td>\n",
       "      <td>7.185</td>\n",
       "      <td>61.1</td>\n",
       "      <td>4.9671</td>\n",
       "      <td>2</td>\n",
       "      <td>242.0</td>\n",
       "      <td>17.8</td>\n",
       "      <td>392.83</td>\n",
       "      <td>4.03</td>\n",
       "      <td>34.7</td>\n",
       "    </tr>\n",
       "    <tr>\n",
       "      <th>3</th>\n",
       "      <td>0.03237</td>\n",
       "      <td>0.0</td>\n",
       "      <td>2.18</td>\n",
       "      <td>0</td>\n",
       "      <td>0.458</td>\n",
       "      <td>6.998</td>\n",
       "      <td>45.8</td>\n",
       "      <td>6.0622</td>\n",
       "      <td>3</td>\n",
       "      <td>222.0</td>\n",
       "      <td>18.7</td>\n",
       "      <td>394.63</td>\n",
       "      <td>2.94</td>\n",
       "      <td>33.4</td>\n",
       "    </tr>\n",
       "    <tr>\n",
       "      <th>4</th>\n",
       "      <td>0.06905</td>\n",
       "      <td>0.0</td>\n",
       "      <td>2.18</td>\n",
       "      <td>0</td>\n",
       "      <td>0.458</td>\n",
       "      <td>7.147</td>\n",
       "      <td>54.2</td>\n",
       "      <td>6.0622</td>\n",
       "      <td>3</td>\n",
       "      <td>222.0</td>\n",
       "      <td>18.7</td>\n",
       "      <td>396.90</td>\n",
       "      <td>5.33</td>\n",
       "      <td>36.2</td>\n",
       "    </tr>\n",
       "    <tr>\n",
       "      <th>...</th>\n",
       "      <td>...</td>\n",
       "      <td>...</td>\n",
       "      <td>...</td>\n",
       "      <td>...</td>\n",
       "      <td>...</td>\n",
       "      <td>...</td>\n",
       "      <td>...</td>\n",
       "      <td>...</td>\n",
       "      <td>...</td>\n",
       "      <td>...</td>\n",
       "      <td>...</td>\n",
       "      <td>...</td>\n",
       "      <td>...</td>\n",
       "      <td>...</td>\n",
       "    </tr>\n",
       "    <tr>\n",
       "      <th>501</th>\n",
       "      <td>0.06263</td>\n",
       "      <td>0.0</td>\n",
       "      <td>11.93</td>\n",
       "      <td>0</td>\n",
       "      <td>0.573</td>\n",
       "      <td>6.593</td>\n",
       "      <td>69.1</td>\n",
       "      <td>2.4786</td>\n",
       "      <td>1</td>\n",
       "      <td>273.0</td>\n",
       "      <td>21.0</td>\n",
       "      <td>391.99</td>\n",
       "      <td>9.67</td>\n",
       "      <td>22.4</td>\n",
       "    </tr>\n",
       "    <tr>\n",
       "      <th>502</th>\n",
       "      <td>0.04527</td>\n",
       "      <td>0.0</td>\n",
       "      <td>11.93</td>\n",
       "      <td>0</td>\n",
       "      <td>0.573</td>\n",
       "      <td>6.120</td>\n",
       "      <td>76.7</td>\n",
       "      <td>2.2875</td>\n",
       "      <td>1</td>\n",
       "      <td>273.0</td>\n",
       "      <td>21.0</td>\n",
       "      <td>396.90</td>\n",
       "      <td>9.08</td>\n",
       "      <td>20.6</td>\n",
       "    </tr>\n",
       "    <tr>\n",
       "      <th>503</th>\n",
       "      <td>0.06076</td>\n",
       "      <td>0.0</td>\n",
       "      <td>11.93</td>\n",
       "      <td>0</td>\n",
       "      <td>0.573</td>\n",
       "      <td>6.976</td>\n",
       "      <td>91.0</td>\n",
       "      <td>2.1675</td>\n",
       "      <td>1</td>\n",
       "      <td>273.0</td>\n",
       "      <td>21.0</td>\n",
       "      <td>396.90</td>\n",
       "      <td>5.64</td>\n",
       "      <td>23.9</td>\n",
       "    </tr>\n",
       "    <tr>\n",
       "      <th>504</th>\n",
       "      <td>0.10959</td>\n",
       "      <td>0.0</td>\n",
       "      <td>11.93</td>\n",
       "      <td>0</td>\n",
       "      <td>0.573</td>\n",
       "      <td>6.794</td>\n",
       "      <td>89.3</td>\n",
       "      <td>2.3889</td>\n",
       "      <td>1</td>\n",
       "      <td>273.0</td>\n",
       "      <td>21.0</td>\n",
       "      <td>393.45</td>\n",
       "      <td>6.48</td>\n",
       "      <td>22.0</td>\n",
       "    </tr>\n",
       "    <tr>\n",
       "      <th>505</th>\n",
       "      <td>0.04741</td>\n",
       "      <td>0.0</td>\n",
       "      <td>11.93</td>\n",
       "      <td>0</td>\n",
       "      <td>0.573</td>\n",
       "      <td>6.030</td>\n",
       "      <td>80.8</td>\n",
       "      <td>2.5050</td>\n",
       "      <td>1</td>\n",
       "      <td>273.0</td>\n",
       "      <td>21.0</td>\n",
       "      <td>396.90</td>\n",
       "      <td>7.88</td>\n",
       "      <td>11.9</td>\n",
       "    </tr>\n",
       "  </tbody>\n",
       "</table>\n",
       "<p>506 rows × 14 columns</p>\n",
       "</div>"
      ],
      "text/plain": [
       "        CRIM    ZN  INDUS  CHAS    NOX     RM   AGE     DIS  RAD    TAX  \\\n",
       "0    0.00632  18.0   2.31     0  0.538  6.575  65.2  4.0900    1  296.0   \n",
       "1    0.02731   0.0   7.07     0  0.469  6.421  78.9  4.9671    2  242.0   \n",
       "2    0.02729   0.0   7.07     0  0.469  7.185  61.1  4.9671    2  242.0   \n",
       "3    0.03237   0.0   2.18     0  0.458  6.998  45.8  6.0622    3  222.0   \n",
       "4    0.06905   0.0   2.18     0  0.458  7.147  54.2  6.0622    3  222.0   \n",
       "..       ...   ...    ...   ...    ...    ...   ...     ...  ...    ...   \n",
       "501  0.06263   0.0  11.93     0  0.573  6.593  69.1  2.4786    1  273.0   \n",
       "502  0.04527   0.0  11.93     0  0.573  6.120  76.7  2.2875    1  273.0   \n",
       "503  0.06076   0.0  11.93     0  0.573  6.976  91.0  2.1675    1  273.0   \n",
       "504  0.10959   0.0  11.93     0  0.573  6.794  89.3  2.3889    1  273.0   \n",
       "505  0.04741   0.0  11.93     0  0.573  6.030  80.8  2.5050    1  273.0   \n",
       "\n",
       "     PTRATIO   BLACK  LSTAT    MV  \n",
       "0       15.3  396.90   4.98  24.0  \n",
       "1       17.8  396.90   9.14  21.6  \n",
       "2       17.8  392.83   4.03  34.7  \n",
       "3       18.7  394.63   2.94  33.4  \n",
       "4       18.7  396.90   5.33  36.2  \n",
       "..       ...     ...    ...   ...  \n",
       "501     21.0  391.99   9.67  22.4  \n",
       "502     21.0  396.90   9.08  20.6  \n",
       "503     21.0  396.90   5.64  23.9  \n",
       "504     21.0  393.45   6.48  22.0  \n",
       "505     21.0  396.90   7.88  11.9  \n",
       "\n",
       "[506 rows x 14 columns]"
      ]
     },
     "execution_count": 3,
     "metadata": {},
     "output_type": "execute_result"
    }
   ],
   "source": [
    "# YOUR CODE HERE\n",
    "housing=pd.read_csv('Boston_Housing.csv', index_col=False)\n",
    "housing"
   ]
  },
  {
   "cell_type": "markdown",
   "id": "e40e6f05",
   "metadata": {
    "tags": []
   },
   "source": [
    "#### Column names in file and their description\n",
    "\n",
    "- CRIM — per capita crime rate by town.\n",
    "- ZN — proportion of residential land zoned for lots over 25,000 sq.ft.\n",
    "- INDUS — proportion of non-retail business acres per town.\n",
    "- CHAS — Charles River dummy variable (= 1 if tract bounds river; 0 otherwise).\n",
    "- NOX — nitrogen oxides concentration (parts per 10 million).\n",
    "- RM — average number of rooms per dwelling.\n",
    "- AGE — proportion of owner-occupied units built prior to 1940.\n",
    "- DIS — weighted mean of distances to five Boston employment centres.\n",
    "- RAD — index of accessibility to radial highways.\n",
    "- TAX — full-value property-tax rate per $10,000.\n",
    "- PTRATIO — pupil-teacher ratio by town.\n",
    "- BLACK — 1000(Bk — 0.63)² where Bk is the proportion of blacks by town.\n",
    "- LSTAT — lower status of the population (percent).\n",
    "\n",
    "\n",
    "\n",
    "- **MV** — median value of owner-occupied homes in $1000s. **This is the target variable.**"
   ]
  },
  {
   "cell_type": "markdown",
   "id": "e7c34352-ba7f-4e4c-af71-a84c8c2989cc",
   "metadata": {},
   "source": [
    "**1.2. See one row of the dataframe (0.33 points)**"
   ]
  },
  {
   "cell_type": "code",
   "execution_count": 4,
   "id": "eac33405-d801-4bf3-899f-906144ca99b3",
   "metadata": {},
   "outputs": [
    {
     "data": {
      "text/html": [
       "<div>\n",
       "<style scoped>\n",
       "    .dataframe tbody tr th:only-of-type {\n",
       "        vertical-align: middle;\n",
       "    }\n",
       "\n",
       "    .dataframe tbody tr th {\n",
       "        vertical-align: top;\n",
       "    }\n",
       "\n",
       "    .dataframe thead th {\n",
       "        text-align: right;\n",
       "    }\n",
       "</style>\n",
       "<table border=\"1\" class=\"dataframe\">\n",
       "  <thead>\n",
       "    <tr style=\"text-align: right;\">\n",
       "      <th></th>\n",
       "      <th>CRIM</th>\n",
       "      <th>ZN</th>\n",
       "      <th>INDUS</th>\n",
       "      <th>CHAS</th>\n",
       "      <th>NOX</th>\n",
       "      <th>RM</th>\n",
       "      <th>AGE</th>\n",
       "      <th>DIS</th>\n",
       "      <th>RAD</th>\n",
       "      <th>TAX</th>\n",
       "      <th>PTRATIO</th>\n",
       "      <th>BLACK</th>\n",
       "      <th>LSTAT</th>\n",
       "      <th>MV</th>\n",
       "    </tr>\n",
       "  </thead>\n",
       "  <tbody>\n",
       "    <tr>\n",
       "      <th>0</th>\n",
       "      <td>0.00632</td>\n",
       "      <td>18.0</td>\n",
       "      <td>2.31</td>\n",
       "      <td>0</td>\n",
       "      <td>0.538</td>\n",
       "      <td>6.575</td>\n",
       "      <td>65.2</td>\n",
       "      <td>4.09</td>\n",
       "      <td>1</td>\n",
       "      <td>296.0</td>\n",
       "      <td>15.3</td>\n",
       "      <td>396.9</td>\n",
       "      <td>4.98</td>\n",
       "      <td>24.0</td>\n",
       "    </tr>\n",
       "  </tbody>\n",
       "</table>\n",
       "</div>"
      ],
      "text/plain": [
       "      CRIM    ZN  INDUS  CHAS    NOX     RM   AGE   DIS  RAD    TAX  PTRATIO  \\\n",
       "0  0.00632  18.0   2.31     0  0.538  6.575  65.2  4.09    1  296.0     15.3   \n",
       "\n",
       "   BLACK  LSTAT    MV  \n",
       "0  396.9   4.98  24.0  "
      ]
     },
     "execution_count": 4,
     "metadata": {},
     "output_type": "execute_result"
    }
   ],
   "source": [
    "# YOUR CODE HERE\n",
    "housing.head(1)"
   ]
  },
  {
   "cell_type": "markdown",
   "id": "f03b3768",
   "metadata": {},
   "source": [
    "**1.3. Print `info` of the dataframe (0.34 points)**"
   ]
  },
  {
   "cell_type": "code",
   "execution_count": 5,
   "id": "3a51a293-50d9-4dd8-b9d3-1d8ae11aa1d2",
   "metadata": {},
   "outputs": [
    {
     "name": "stdout",
     "output_type": "stream",
     "text": [
      "<class 'pandas.core.frame.DataFrame'>\n",
      "RangeIndex: 506 entries, 0 to 505\n",
      "Data columns (total 14 columns):\n",
      " #   Column   Non-Null Count  Dtype  \n",
      "---  ------   --------------  -----  \n",
      " 0   CRIM     506 non-null    float64\n",
      " 1   ZN       506 non-null    float64\n",
      " 2   INDUS    506 non-null    float64\n",
      " 3   CHAS     506 non-null    int64  \n",
      " 4   NOX      506 non-null    float64\n",
      " 5   RM       506 non-null    float64\n",
      " 6   AGE      506 non-null    float64\n",
      " 7   DIS      506 non-null    float64\n",
      " 8   RAD      506 non-null    int64  \n",
      " 9   TAX      506 non-null    float64\n",
      " 10  PTRATIO  506 non-null    float64\n",
      " 11  BLACK    506 non-null    float64\n",
      " 12  LSTAT    506 non-null    float64\n",
      " 13  MV       506 non-null    float64\n",
      "dtypes: float64(12), int64(2)\n",
      "memory usage: 55.5 KB\n"
     ]
    }
   ],
   "source": [
    "# YOUR CODE HERE\n",
    "housing.info()"
   ]
  },
  {
   "cell_type": "markdown",
   "id": "9071928f",
   "metadata": {},
   "source": [
    "### 2. Feature selection - 2 points\n"
   ]
  },
  {
   "cell_type": "markdown",
   "id": "9bafc22a-b69e-450a-87d3-907be0d417fa",
   "metadata": {},
   "source": [
    "**2.1. Select the following features from the dataframe (0.5 points)**\n",
    "* Select the following features from the dataframe - ['CRIM' , 'ZN', 'INDUS', 'CHAS', 'NOX', 'RM', 'AGE', 'DIS', 'RAD', 'TAX', 'PTRATIO', 'BLACK', 'LSTAT', 'MV']\n",
    "* Print `info` of the resulting DataFrame to verify"
   ]
  },
  {
   "cell_type": "code",
   "execution_count": 6,
   "id": "46e9345c-5fb1-4640-8236-37b90ae901ba",
   "metadata": {},
   "outputs": [
    {
     "data": {
      "text/html": [
       "<div>\n",
       "<style scoped>\n",
       "    .dataframe tbody tr th:only-of-type {\n",
       "        vertical-align: middle;\n",
       "    }\n",
       "\n",
       "    .dataframe tbody tr th {\n",
       "        vertical-align: top;\n",
       "    }\n",
       "\n",
       "    .dataframe thead th {\n",
       "        text-align: right;\n",
       "    }\n",
       "</style>\n",
       "<table border=\"1\" class=\"dataframe\">\n",
       "  <thead>\n",
       "    <tr style=\"text-align: right;\">\n",
       "      <th></th>\n",
       "      <th>CRIM</th>\n",
       "      <th>ZN</th>\n",
       "      <th>INDUS</th>\n",
       "      <th>CHAS</th>\n",
       "      <th>NOX</th>\n",
       "      <th>RM</th>\n",
       "      <th>AGE</th>\n",
       "      <th>DIS</th>\n",
       "      <th>RAD</th>\n",
       "      <th>TAX</th>\n",
       "      <th>PTRATIO</th>\n",
       "      <th>BLACK</th>\n",
       "      <th>LSTAT</th>\n",
       "      <th>MV</th>\n",
       "    </tr>\n",
       "  </thead>\n",
       "  <tbody>\n",
       "    <tr>\n",
       "      <th>0</th>\n",
       "      <td>0.00632</td>\n",
       "      <td>18.0</td>\n",
       "      <td>2.31</td>\n",
       "      <td>0</td>\n",
       "      <td>0.538</td>\n",
       "      <td>6.575</td>\n",
       "      <td>65.2</td>\n",
       "      <td>4.0900</td>\n",
       "      <td>1</td>\n",
       "      <td>296.0</td>\n",
       "      <td>15.3</td>\n",
       "      <td>396.90</td>\n",
       "      <td>4.98</td>\n",
       "      <td>24.0</td>\n",
       "    </tr>\n",
       "    <tr>\n",
       "      <th>1</th>\n",
       "      <td>0.02731</td>\n",
       "      <td>0.0</td>\n",
       "      <td>7.07</td>\n",
       "      <td>0</td>\n",
       "      <td>0.469</td>\n",
       "      <td>6.421</td>\n",
       "      <td>78.9</td>\n",
       "      <td>4.9671</td>\n",
       "      <td>2</td>\n",
       "      <td>242.0</td>\n",
       "      <td>17.8</td>\n",
       "      <td>396.90</td>\n",
       "      <td>9.14</td>\n",
       "      <td>21.6</td>\n",
       "    </tr>\n",
       "    <tr>\n",
       "      <th>2</th>\n",
       "      <td>0.02729</td>\n",
       "      <td>0.0</td>\n",
       "      <td>7.07</td>\n",
       "      <td>0</td>\n",
       "      <td>0.469</td>\n",
       "      <td>7.185</td>\n",
       "      <td>61.1</td>\n",
       "      <td>4.9671</td>\n",
       "      <td>2</td>\n",
       "      <td>242.0</td>\n",
       "      <td>17.8</td>\n",
       "      <td>392.83</td>\n",
       "      <td>4.03</td>\n",
       "      <td>34.7</td>\n",
       "    </tr>\n",
       "    <tr>\n",
       "      <th>3</th>\n",
       "      <td>0.03237</td>\n",
       "      <td>0.0</td>\n",
       "      <td>2.18</td>\n",
       "      <td>0</td>\n",
       "      <td>0.458</td>\n",
       "      <td>6.998</td>\n",
       "      <td>45.8</td>\n",
       "      <td>6.0622</td>\n",
       "      <td>3</td>\n",
       "      <td>222.0</td>\n",
       "      <td>18.7</td>\n",
       "      <td>394.63</td>\n",
       "      <td>2.94</td>\n",
       "      <td>33.4</td>\n",
       "    </tr>\n",
       "    <tr>\n",
       "      <th>4</th>\n",
       "      <td>0.06905</td>\n",
       "      <td>0.0</td>\n",
       "      <td>2.18</td>\n",
       "      <td>0</td>\n",
       "      <td>0.458</td>\n",
       "      <td>7.147</td>\n",
       "      <td>54.2</td>\n",
       "      <td>6.0622</td>\n",
       "      <td>3</td>\n",
       "      <td>222.0</td>\n",
       "      <td>18.7</td>\n",
       "      <td>396.90</td>\n",
       "      <td>5.33</td>\n",
       "      <td>36.2</td>\n",
       "    </tr>\n",
       "    <tr>\n",
       "      <th>...</th>\n",
       "      <td>...</td>\n",
       "      <td>...</td>\n",
       "      <td>...</td>\n",
       "      <td>...</td>\n",
       "      <td>...</td>\n",
       "      <td>...</td>\n",
       "      <td>...</td>\n",
       "      <td>...</td>\n",
       "      <td>...</td>\n",
       "      <td>...</td>\n",
       "      <td>...</td>\n",
       "      <td>...</td>\n",
       "      <td>...</td>\n",
       "      <td>...</td>\n",
       "    </tr>\n",
       "    <tr>\n",
       "      <th>501</th>\n",
       "      <td>0.06263</td>\n",
       "      <td>0.0</td>\n",
       "      <td>11.93</td>\n",
       "      <td>0</td>\n",
       "      <td>0.573</td>\n",
       "      <td>6.593</td>\n",
       "      <td>69.1</td>\n",
       "      <td>2.4786</td>\n",
       "      <td>1</td>\n",
       "      <td>273.0</td>\n",
       "      <td>21.0</td>\n",
       "      <td>391.99</td>\n",
       "      <td>9.67</td>\n",
       "      <td>22.4</td>\n",
       "    </tr>\n",
       "    <tr>\n",
       "      <th>502</th>\n",
       "      <td>0.04527</td>\n",
       "      <td>0.0</td>\n",
       "      <td>11.93</td>\n",
       "      <td>0</td>\n",
       "      <td>0.573</td>\n",
       "      <td>6.120</td>\n",
       "      <td>76.7</td>\n",
       "      <td>2.2875</td>\n",
       "      <td>1</td>\n",
       "      <td>273.0</td>\n",
       "      <td>21.0</td>\n",
       "      <td>396.90</td>\n",
       "      <td>9.08</td>\n",
       "      <td>20.6</td>\n",
       "    </tr>\n",
       "    <tr>\n",
       "      <th>503</th>\n",
       "      <td>0.06076</td>\n",
       "      <td>0.0</td>\n",
       "      <td>11.93</td>\n",
       "      <td>0</td>\n",
       "      <td>0.573</td>\n",
       "      <td>6.976</td>\n",
       "      <td>91.0</td>\n",
       "      <td>2.1675</td>\n",
       "      <td>1</td>\n",
       "      <td>273.0</td>\n",
       "      <td>21.0</td>\n",
       "      <td>396.90</td>\n",
       "      <td>5.64</td>\n",
       "      <td>23.9</td>\n",
       "    </tr>\n",
       "    <tr>\n",
       "      <th>504</th>\n",
       "      <td>0.10959</td>\n",
       "      <td>0.0</td>\n",
       "      <td>11.93</td>\n",
       "      <td>0</td>\n",
       "      <td>0.573</td>\n",
       "      <td>6.794</td>\n",
       "      <td>89.3</td>\n",
       "      <td>2.3889</td>\n",
       "      <td>1</td>\n",
       "      <td>273.0</td>\n",
       "      <td>21.0</td>\n",
       "      <td>393.45</td>\n",
       "      <td>6.48</td>\n",
       "      <td>22.0</td>\n",
       "    </tr>\n",
       "    <tr>\n",
       "      <th>505</th>\n",
       "      <td>0.04741</td>\n",
       "      <td>0.0</td>\n",
       "      <td>11.93</td>\n",
       "      <td>0</td>\n",
       "      <td>0.573</td>\n",
       "      <td>6.030</td>\n",
       "      <td>80.8</td>\n",
       "      <td>2.5050</td>\n",
       "      <td>1</td>\n",
       "      <td>273.0</td>\n",
       "      <td>21.0</td>\n",
       "      <td>396.90</td>\n",
       "      <td>7.88</td>\n",
       "      <td>11.9</td>\n",
       "    </tr>\n",
       "  </tbody>\n",
       "</table>\n",
       "<p>506 rows × 14 columns</p>\n",
       "</div>"
      ],
      "text/plain": [
       "        CRIM    ZN  INDUS  CHAS    NOX     RM   AGE     DIS  RAD    TAX  \\\n",
       "0    0.00632  18.0   2.31     0  0.538  6.575  65.2  4.0900    1  296.0   \n",
       "1    0.02731   0.0   7.07     0  0.469  6.421  78.9  4.9671    2  242.0   \n",
       "2    0.02729   0.0   7.07     0  0.469  7.185  61.1  4.9671    2  242.0   \n",
       "3    0.03237   0.0   2.18     0  0.458  6.998  45.8  6.0622    3  222.0   \n",
       "4    0.06905   0.0   2.18     0  0.458  7.147  54.2  6.0622    3  222.0   \n",
       "..       ...   ...    ...   ...    ...    ...   ...     ...  ...    ...   \n",
       "501  0.06263   0.0  11.93     0  0.573  6.593  69.1  2.4786    1  273.0   \n",
       "502  0.04527   0.0  11.93     0  0.573  6.120  76.7  2.2875    1  273.0   \n",
       "503  0.06076   0.0  11.93     0  0.573  6.976  91.0  2.1675    1  273.0   \n",
       "504  0.10959   0.0  11.93     0  0.573  6.794  89.3  2.3889    1  273.0   \n",
       "505  0.04741   0.0  11.93     0  0.573  6.030  80.8  2.5050    1  273.0   \n",
       "\n",
       "     PTRATIO   BLACK  LSTAT    MV  \n",
       "0       15.3  396.90   4.98  24.0  \n",
       "1       17.8  396.90   9.14  21.6  \n",
       "2       17.8  392.83   4.03  34.7  \n",
       "3       18.7  394.63   2.94  33.4  \n",
       "4       18.7  396.90   5.33  36.2  \n",
       "..       ...     ...    ...   ...  \n",
       "501     21.0  391.99   9.67  22.4  \n",
       "502     21.0  396.90   9.08  20.6  \n",
       "503     21.0  396.90   5.64  23.9  \n",
       "504     21.0  393.45   6.48  22.0  \n",
       "505     21.0  396.90   7.88  11.9  \n",
       "\n",
       "[506 rows x 14 columns]"
      ]
     },
     "execution_count": 6,
     "metadata": {},
     "output_type": "execute_result"
    }
   ],
   "source": [
    "# YOUR CODE HERE\n",
    "housing[['CRIM' , 'ZN', 'INDUS', 'CHAS', 'NOX', 'RM', 'AGE', 'DIS', 'RAD', 'TAX', 'PTRATIO', 'BLACK', 'LSTAT', 'MV']]"
   ]
  },
  {
   "cell_type": "markdown",
   "id": "ec17d797",
   "metadata": {},
   "source": [
    "**2.2. Drop rows where target variable `MV` has null values (if need) (0.5 points)**\n",
    "\n",
    "* Print the number of remaining rows"
   ]
  },
  {
   "cell_type": "code",
   "execution_count": 7,
   "id": "15e6efc8-d125-4107-b551-38e11dc7d05a",
   "metadata": {},
   "outputs": [
    {
     "name": "stdout",
     "output_type": "stream",
     "text": [
      "There are 0 rows where target variable MV has null values\n",
      "the number of remaining rows: 506\n"
     ]
    }
   ],
   "source": [
    "# YOUR CODE HERE\n",
    "mv_na=housing[['MV']].isna().any(axis=1).sum()\n",
    "print('There are', mv_na, 'rows where target variable MV has null values')\n",
    "mv_dropna=housing[['MV']].dropna().any(axis=1).sum()\n",
    "print('the number of remaining rows:', mv_dropna)"
   ]
  },
  {
   "cell_type": "markdown",
   "id": "9e37bc56",
   "metadata": {},
   "source": [
    "**2.3. Fill null values of remaining columns using mean of the column values (if need) (1 points)**\n"
   ]
  },
  {
   "cell_type": "code",
   "execution_count": 8,
   "id": "2c6c5e1a-cc1e-42f6-9562-c0d2b48f9258",
   "metadata": {},
   "outputs": [
    {
     "data": {
      "text/html": [
       "<div>\n",
       "<style scoped>\n",
       "    .dataframe tbody tr th:only-of-type {\n",
       "        vertical-align: middle;\n",
       "    }\n",
       "\n",
       "    .dataframe tbody tr th {\n",
       "        vertical-align: top;\n",
       "    }\n",
       "\n",
       "    .dataframe thead th {\n",
       "        text-align: right;\n",
       "    }\n",
       "</style>\n",
       "<table border=\"1\" class=\"dataframe\">\n",
       "  <thead>\n",
       "    <tr style=\"text-align: right;\">\n",
       "      <th></th>\n",
       "      <th>CRIM</th>\n",
       "      <th>ZN</th>\n",
       "      <th>INDUS</th>\n",
       "      <th>CHAS</th>\n",
       "      <th>NOX</th>\n",
       "      <th>RM</th>\n",
       "      <th>AGE</th>\n",
       "      <th>DIS</th>\n",
       "      <th>RAD</th>\n",
       "      <th>TAX</th>\n",
       "      <th>PTRATIO</th>\n",
       "      <th>BLACK</th>\n",
       "      <th>LSTAT</th>\n",
       "      <th>MV</th>\n",
       "    </tr>\n",
       "  </thead>\n",
       "  <tbody>\n",
       "    <tr>\n",
       "      <th>0</th>\n",
       "      <td>0.00632</td>\n",
       "      <td>18.0</td>\n",
       "      <td>2.31</td>\n",
       "      <td>0</td>\n",
       "      <td>0.538</td>\n",
       "      <td>6.575</td>\n",
       "      <td>65.2</td>\n",
       "      <td>4.0900</td>\n",
       "      <td>1</td>\n",
       "      <td>296.0</td>\n",
       "      <td>15.3</td>\n",
       "      <td>396.90</td>\n",
       "      <td>4.98</td>\n",
       "      <td>24.0</td>\n",
       "    </tr>\n",
       "    <tr>\n",
       "      <th>1</th>\n",
       "      <td>0.02731</td>\n",
       "      <td>0.0</td>\n",
       "      <td>7.07</td>\n",
       "      <td>0</td>\n",
       "      <td>0.469</td>\n",
       "      <td>6.421</td>\n",
       "      <td>78.9</td>\n",
       "      <td>4.9671</td>\n",
       "      <td>2</td>\n",
       "      <td>242.0</td>\n",
       "      <td>17.8</td>\n",
       "      <td>396.90</td>\n",
       "      <td>9.14</td>\n",
       "      <td>21.6</td>\n",
       "    </tr>\n",
       "    <tr>\n",
       "      <th>2</th>\n",
       "      <td>0.02729</td>\n",
       "      <td>0.0</td>\n",
       "      <td>7.07</td>\n",
       "      <td>0</td>\n",
       "      <td>0.469</td>\n",
       "      <td>7.185</td>\n",
       "      <td>61.1</td>\n",
       "      <td>4.9671</td>\n",
       "      <td>2</td>\n",
       "      <td>242.0</td>\n",
       "      <td>17.8</td>\n",
       "      <td>392.83</td>\n",
       "      <td>4.03</td>\n",
       "      <td>34.7</td>\n",
       "    </tr>\n",
       "    <tr>\n",
       "      <th>3</th>\n",
       "      <td>0.03237</td>\n",
       "      <td>0.0</td>\n",
       "      <td>2.18</td>\n",
       "      <td>0</td>\n",
       "      <td>0.458</td>\n",
       "      <td>6.998</td>\n",
       "      <td>45.8</td>\n",
       "      <td>6.0622</td>\n",
       "      <td>3</td>\n",
       "      <td>222.0</td>\n",
       "      <td>18.7</td>\n",
       "      <td>394.63</td>\n",
       "      <td>2.94</td>\n",
       "      <td>33.4</td>\n",
       "    </tr>\n",
       "    <tr>\n",
       "      <th>4</th>\n",
       "      <td>0.06905</td>\n",
       "      <td>0.0</td>\n",
       "      <td>2.18</td>\n",
       "      <td>0</td>\n",
       "      <td>0.458</td>\n",
       "      <td>7.147</td>\n",
       "      <td>54.2</td>\n",
       "      <td>6.0622</td>\n",
       "      <td>3</td>\n",
       "      <td>222.0</td>\n",
       "      <td>18.7</td>\n",
       "      <td>396.90</td>\n",
       "      <td>5.33</td>\n",
       "      <td>36.2</td>\n",
       "    </tr>\n",
       "    <tr>\n",
       "      <th>...</th>\n",
       "      <td>...</td>\n",
       "      <td>...</td>\n",
       "      <td>...</td>\n",
       "      <td>...</td>\n",
       "      <td>...</td>\n",
       "      <td>...</td>\n",
       "      <td>...</td>\n",
       "      <td>...</td>\n",
       "      <td>...</td>\n",
       "      <td>...</td>\n",
       "      <td>...</td>\n",
       "      <td>...</td>\n",
       "      <td>...</td>\n",
       "      <td>...</td>\n",
       "    </tr>\n",
       "    <tr>\n",
       "      <th>501</th>\n",
       "      <td>0.06263</td>\n",
       "      <td>0.0</td>\n",
       "      <td>11.93</td>\n",
       "      <td>0</td>\n",
       "      <td>0.573</td>\n",
       "      <td>6.593</td>\n",
       "      <td>69.1</td>\n",
       "      <td>2.4786</td>\n",
       "      <td>1</td>\n",
       "      <td>273.0</td>\n",
       "      <td>21.0</td>\n",
       "      <td>391.99</td>\n",
       "      <td>9.67</td>\n",
       "      <td>22.4</td>\n",
       "    </tr>\n",
       "    <tr>\n",
       "      <th>502</th>\n",
       "      <td>0.04527</td>\n",
       "      <td>0.0</td>\n",
       "      <td>11.93</td>\n",
       "      <td>0</td>\n",
       "      <td>0.573</td>\n",
       "      <td>6.120</td>\n",
       "      <td>76.7</td>\n",
       "      <td>2.2875</td>\n",
       "      <td>1</td>\n",
       "      <td>273.0</td>\n",
       "      <td>21.0</td>\n",
       "      <td>396.90</td>\n",
       "      <td>9.08</td>\n",
       "      <td>20.6</td>\n",
       "    </tr>\n",
       "    <tr>\n",
       "      <th>503</th>\n",
       "      <td>0.06076</td>\n",
       "      <td>0.0</td>\n",
       "      <td>11.93</td>\n",
       "      <td>0</td>\n",
       "      <td>0.573</td>\n",
       "      <td>6.976</td>\n",
       "      <td>91.0</td>\n",
       "      <td>2.1675</td>\n",
       "      <td>1</td>\n",
       "      <td>273.0</td>\n",
       "      <td>21.0</td>\n",
       "      <td>396.90</td>\n",
       "      <td>5.64</td>\n",
       "      <td>23.9</td>\n",
       "    </tr>\n",
       "    <tr>\n",
       "      <th>504</th>\n",
       "      <td>0.10959</td>\n",
       "      <td>0.0</td>\n",
       "      <td>11.93</td>\n",
       "      <td>0</td>\n",
       "      <td>0.573</td>\n",
       "      <td>6.794</td>\n",
       "      <td>89.3</td>\n",
       "      <td>2.3889</td>\n",
       "      <td>1</td>\n",
       "      <td>273.0</td>\n",
       "      <td>21.0</td>\n",
       "      <td>393.45</td>\n",
       "      <td>6.48</td>\n",
       "      <td>22.0</td>\n",
       "    </tr>\n",
       "    <tr>\n",
       "      <th>505</th>\n",
       "      <td>0.04741</td>\n",
       "      <td>0.0</td>\n",
       "      <td>11.93</td>\n",
       "      <td>0</td>\n",
       "      <td>0.573</td>\n",
       "      <td>6.030</td>\n",
       "      <td>80.8</td>\n",
       "      <td>2.5050</td>\n",
       "      <td>1</td>\n",
       "      <td>273.0</td>\n",
       "      <td>21.0</td>\n",
       "      <td>396.90</td>\n",
       "      <td>7.88</td>\n",
       "      <td>11.9</td>\n",
       "    </tr>\n",
       "  </tbody>\n",
       "</table>\n",
       "<p>506 rows × 14 columns</p>\n",
       "</div>"
      ],
      "text/plain": [
       "        CRIM    ZN  INDUS  CHAS    NOX     RM   AGE     DIS  RAD    TAX  \\\n",
       "0    0.00632  18.0   2.31     0  0.538  6.575  65.2  4.0900    1  296.0   \n",
       "1    0.02731   0.0   7.07     0  0.469  6.421  78.9  4.9671    2  242.0   \n",
       "2    0.02729   0.0   7.07     0  0.469  7.185  61.1  4.9671    2  242.0   \n",
       "3    0.03237   0.0   2.18     0  0.458  6.998  45.8  6.0622    3  222.0   \n",
       "4    0.06905   0.0   2.18     0  0.458  7.147  54.2  6.0622    3  222.0   \n",
       "..       ...   ...    ...   ...    ...    ...   ...     ...  ...    ...   \n",
       "501  0.06263   0.0  11.93     0  0.573  6.593  69.1  2.4786    1  273.0   \n",
       "502  0.04527   0.0  11.93     0  0.573  6.120  76.7  2.2875    1  273.0   \n",
       "503  0.06076   0.0  11.93     0  0.573  6.976  91.0  2.1675    1  273.0   \n",
       "504  0.10959   0.0  11.93     0  0.573  6.794  89.3  2.3889    1  273.0   \n",
       "505  0.04741   0.0  11.93     0  0.573  6.030  80.8  2.5050    1  273.0   \n",
       "\n",
       "     PTRATIO   BLACK  LSTAT    MV  \n",
       "0       15.3  396.90   4.98  24.0  \n",
       "1       17.8  396.90   9.14  21.6  \n",
       "2       17.8  392.83   4.03  34.7  \n",
       "3       18.7  394.63   2.94  33.4  \n",
       "4       18.7  396.90   5.33  36.2  \n",
       "..       ...     ...    ...   ...  \n",
       "501     21.0  391.99   9.67  22.4  \n",
       "502     21.0  396.90   9.08  20.6  \n",
       "503     21.0  396.90   5.64  23.9  \n",
       "504     21.0  393.45   6.48  22.0  \n",
       "505     21.0  396.90   7.88  11.9  \n",
       "\n",
       "[506 rows x 14 columns]"
      ]
     },
     "execution_count": 8,
     "metadata": {},
     "output_type": "execute_result"
    }
   ],
   "source": [
    "# YOUR CODE HERE\n",
    "#housing.isna().any(axis=1).sum()\n",
    "housing.fillna(housing.mean(), inplace=True)\n",
    "housing"
   ]
  },
  {
   "cell_type": "markdown",
   "id": "88f8f638",
   "metadata": {},
   "source": [
    "### 3. Train test split - 1 point"
   ]
  },
  {
   "cell_type": "markdown",
   "id": "8234942f",
   "metadata": {},
   "source": [
    "**3.1. Store features in variable `X` and target MV in variable `y` (0.5 points)**"
   ]
  },
  {
   "cell_type": "code",
   "execution_count": 9,
   "id": "fcc407c0-33d1-44fd-a7a1-568698034d97",
   "metadata": {},
   "outputs": [],
   "source": [
    "X = housing[['CRIM' , 'ZN', 'INDUS', 'CHAS', 'NOX', 'RM', 'AGE', 'DIS', 'RAD', 'TAX', 'PTRATIO', 'BLACK', 'LSTAT']]\n",
    "y = housing[['MV']] "
   ]
  },
  {
   "cell_type": "markdown",
   "id": "b604a723",
   "metadata": {},
   "source": [
    "**3.2. Split the dataset into train and test split (0.5 points)**\n",
    " * Train dataframe and test dataframe with a 75:25 split between them (75% for train and 25% for test)\n",
    " * Pass `random_state=seed` to train_test_split function to reproduce results\n",
    " * Print the number of rows in train and test dataframes"
   ]
  },
  {
   "cell_type": "code",
   "execution_count": 10,
   "id": "8389e381-7262-4987-b010-f5a061f9d80a",
   "metadata": {},
   "outputs": [],
   "source": [
    "X_train, X_test, y_train, y_test = train_test_split(X, y, test_size=0.25, random_state=seed) # YOUR CODE HERE"
   ]
  },
  {
   "cell_type": "code",
   "execution_count": 11,
   "id": "fc51996f",
   "metadata": {},
   "outputs": [
    {
     "name": "stdout",
     "output_type": "stream",
     "text": [
      "rows in train: 379 \n",
      " rows in test: 379\n"
     ]
    }
   ],
   "source": [
    "print('rows in train:', X_train.shape[0], '\\n', 'rows in test:', y_train.shape[0])"
   ]
  },
  {
   "cell_type": "markdown",
   "id": "120e881f-3447-4119-84eb-171f070006b2",
   "metadata": {},
   "source": [
    "### 4. Standardize the data - 1 point\n"
   ]
  },
  {
   "cell_type": "markdown",
   "id": "9cdda94f-b29f-475a-bf8e-edf041951a7c",
   "metadata": {},
   "source": [
    "**4.1. Use `StandardScaler` to fit a scaler model (0.5 points)**\n",
    "* Use the StandardScaler to standardize your data(only the features, not the target).\n",
    "* **IMPORTANT** - Use only the training data for scaling \n",
    "* Standardization results in each column having zero mean and unit standard deviation"
   ]
  },
  {
   "cell_type": "code",
   "execution_count": 12,
   "id": "41ec6ab0-c6b0-484b-a08b-017c2f3ae409",
   "metadata": {},
   "outputs": [],
   "source": [
    "sc = StandardScaler() # I question about this. Not sure a regression needs a standardization.\n",
    "                        "
   ]
  },
  {
   "cell_type": "code",
   "execution_count": 13,
   "id": "3d3607f4",
   "metadata": {},
   "outputs": [
    {
     "data": {
      "text/plain": [
       "array([[-0.42099129, -0.44496424, -1.08540424, ..., -1.41458158,\n",
       "         0.44419754, -0.56723075],\n",
       "       [-0.42475396,  1.22324119, -0.72648881, ..., -0.8318639 ,\n",
       "         0.45799486, -1.34274421],\n",
       "       [-0.41950497, -0.44496424,  2.51743753, ...,  0.6249303 ,\n",
       "         0.39107788,  0.70371057],\n",
       "       ...,\n",
       "       [-0.41569758, -0.44496424, -0.6504474 , ..., -0.6570486 ,\n",
       "         0.32465365, -1.02184209],\n",
       "       [-0.39337713, -0.44496424, -0.57896848, ...,  0.33357146,\n",
       "         0.45799486, -0.75583112],\n",
       "       [-0.42877215,  3.0999723 , -1.07019596, ..., -0.6570486 ,\n",
       "         0.413942  , -0.94443149]])"
      ]
     },
     "execution_count": 13,
     "metadata": {},
     "output_type": "execute_result"
    }
   ],
   "source": [
    "# YOUR CODE HERE\n",
    "sc.fit_transform(X_train)\n",
    "sc.fit_transform(X_test) "
   ]
  },
  {
   "cell_type": "markdown",
   "id": "a7f5aedf-fb77-4023-8947-198423bcfbf3",
   "metadata": {},
   "source": [
    "**4.2. Scale your training and test data (0.5 points)**"
   ]
  },
  {
   "cell_type": "code",
   "execution_count": 14,
   "id": "b80ac59b-3d22-4681-88e5-9f247395ccd3",
   "metadata": {},
   "outputs": [],
   "source": [
    "X_train_scaled = sc.fit_transform(X_train)# YOUR CODE HERE\n",
    "X_test_scaled = sc.fit_transform(X_test) # it says IMPORTANT - Use only the training data for scaling. \n",
    "                                        # (This is a contradiction, I think this is wrong.)\n",
    "                                       # Since X_train is scaled. To get Y_test_predict, X_test need to be scaled as well, right? \n"
   ]
  },
  {
   "cell_type": "markdown",
   "id": "c51955fd",
   "metadata": {},
   "source": [
    "### 5. Training - 2 points"
   ]
  },
  {
   "cell_type": "markdown",
   "id": "70b29007-f34b-4578-aee7-67a7eb2d8dc9",
   "metadata": {},
   "source": [
    "**5.1. Use `LinearRegression` for training a regression model (1.0 points)**"
   ]
  },
  {
   "cell_type": "code",
   "execution_count": 15,
   "id": "4cd12552-0672-4fc9-a8ae-c286b225dd13",
   "metadata": {},
   "outputs": [],
   "source": [
    "lr = LinearRegression()"
   ]
  },
  {
   "cell_type": "code",
   "execution_count": 16,
   "id": "d60056b9",
   "metadata": {},
   "outputs": [
    {
     "data": {
      "text/html": [
       "<style>#sk-container-id-1 {color: black;}#sk-container-id-1 pre{padding: 0;}#sk-container-id-1 div.sk-toggleable {background-color: white;}#sk-container-id-1 label.sk-toggleable__label {cursor: pointer;display: block;width: 100%;margin-bottom: 0;padding: 0.3em;box-sizing: border-box;text-align: center;}#sk-container-id-1 label.sk-toggleable__label-arrow:before {content: \"▸\";float: left;margin-right: 0.25em;color: #696969;}#sk-container-id-1 label.sk-toggleable__label-arrow:hover:before {color: black;}#sk-container-id-1 div.sk-estimator:hover label.sk-toggleable__label-arrow:before {color: black;}#sk-container-id-1 div.sk-toggleable__content {max-height: 0;max-width: 0;overflow: hidden;text-align: left;background-color: #f0f8ff;}#sk-container-id-1 div.sk-toggleable__content pre {margin: 0.2em;color: black;border-radius: 0.25em;background-color: #f0f8ff;}#sk-container-id-1 input.sk-toggleable__control:checked~div.sk-toggleable__content {max-height: 200px;max-width: 100%;overflow: auto;}#sk-container-id-1 input.sk-toggleable__control:checked~label.sk-toggleable__label-arrow:before {content: \"▾\";}#sk-container-id-1 div.sk-estimator input.sk-toggleable__control:checked~label.sk-toggleable__label {background-color: #d4ebff;}#sk-container-id-1 div.sk-label input.sk-toggleable__control:checked~label.sk-toggleable__label {background-color: #d4ebff;}#sk-container-id-1 input.sk-hidden--visually {border: 0;clip: rect(1px 1px 1px 1px);clip: rect(1px, 1px, 1px, 1px);height: 1px;margin: -1px;overflow: hidden;padding: 0;position: absolute;width: 1px;}#sk-container-id-1 div.sk-estimator {font-family: monospace;background-color: #f0f8ff;border: 1px dotted black;border-radius: 0.25em;box-sizing: border-box;margin-bottom: 0.5em;}#sk-container-id-1 div.sk-estimator:hover {background-color: #d4ebff;}#sk-container-id-1 div.sk-parallel-item::after {content: \"\";width: 100%;border-bottom: 1px solid gray;flex-grow: 1;}#sk-container-id-1 div.sk-label:hover label.sk-toggleable__label {background-color: #d4ebff;}#sk-container-id-1 div.sk-serial::before {content: \"\";position: absolute;border-left: 1px solid gray;box-sizing: border-box;top: 0;bottom: 0;left: 50%;z-index: 0;}#sk-container-id-1 div.sk-serial {display: flex;flex-direction: column;align-items: center;background-color: white;padding-right: 0.2em;padding-left: 0.2em;position: relative;}#sk-container-id-1 div.sk-item {position: relative;z-index: 1;}#sk-container-id-1 div.sk-parallel {display: flex;align-items: stretch;justify-content: center;background-color: white;position: relative;}#sk-container-id-1 div.sk-item::before, #sk-container-id-1 div.sk-parallel-item::before {content: \"\";position: absolute;border-left: 1px solid gray;box-sizing: border-box;top: 0;bottom: 0;left: 50%;z-index: -1;}#sk-container-id-1 div.sk-parallel-item {display: flex;flex-direction: column;z-index: 1;position: relative;background-color: white;}#sk-container-id-1 div.sk-parallel-item:first-child::after {align-self: flex-end;width: 50%;}#sk-container-id-1 div.sk-parallel-item:last-child::after {align-self: flex-start;width: 50%;}#sk-container-id-1 div.sk-parallel-item:only-child::after {width: 0;}#sk-container-id-1 div.sk-dashed-wrapped {border: 1px dashed gray;margin: 0 0.4em 0.5em 0.4em;box-sizing: border-box;padding-bottom: 0.4em;background-color: white;}#sk-container-id-1 div.sk-label label {font-family: monospace;font-weight: bold;display: inline-block;line-height: 1.2em;}#sk-container-id-1 div.sk-label-container {text-align: center;}#sk-container-id-1 div.sk-container {/* jupyter's `normalize.less` sets `[hidden] { display: none; }` but bootstrap.min.css set `[hidden] { display: none !important; }` so we also need the `!important` here to be able to override the default hidden behavior on the sphinx rendered scikit-learn.org. See: https://github.com/scikit-learn/scikit-learn/issues/21755 */display: inline-block !important;position: relative;}#sk-container-id-1 div.sk-text-repr-fallback {display: none;}</style><div id=\"sk-container-id-1\" class=\"sk-top-container\"><div class=\"sk-text-repr-fallback\"><pre>LinearRegression()</pre><b>In a Jupyter environment, please rerun this cell to show the HTML representation or trust the notebook. <br />On GitHub, the HTML representation is unable to render, please try loading this page with nbviewer.org.</b></div><div class=\"sk-container\" hidden><div class=\"sk-item\"><div class=\"sk-estimator sk-toggleable\"><input class=\"sk-toggleable__control sk-hidden--visually\" id=\"sk-estimator-id-1\" type=\"checkbox\" checked><label for=\"sk-estimator-id-1\" class=\"sk-toggleable__label sk-toggleable__label-arrow\">LinearRegression</label><div class=\"sk-toggleable__content\"><pre>LinearRegression()</pre></div></div></div></div></div>"
      ],
      "text/plain": [
       "LinearRegression()"
      ]
     },
     "execution_count": 16,
     "metadata": {},
     "output_type": "execute_result"
    }
   ],
   "source": [
    "# YOUR CODE HERE\n",
    "lr.fit(X_train_scaled, y_train)"
   ]
  },
  {
   "cell_type": "markdown",
   "id": "13992d95",
   "metadata": {},
   "source": [
    "**5.3. Print the mean squared error(MSE) and coefficient of determination(r2) of the training data (1.0 points)**"
   ]
  },
  {
   "cell_type": "code",
   "execution_count": 17,
   "id": "abafa818",
   "metadata": {},
   "outputs": [],
   "source": [
    "y_train_pred = lr.predict(X_train_scaled) # what's the reason here? why need to predict on the training set? I dont get this question."
   ]
  },
  {
   "cell_type": "code",
   "execution_count": 18,
   "id": "2045e353-4a6d-49b3-bcfe-7a0e953f4a5a",
   "metadata": {},
   "outputs": [
    {
     "data": {
      "text/plain": [
       "22.34005799215287"
      ]
     },
     "execution_count": 18,
     "metadata": {},
     "output_type": "execute_result"
    }
   ],
   "source": [
    "# YOUR CODE HERE\n",
    "MSE_train= mean_squared_error(y_true= y_train, y_pred= y_train_pred)\n",
    "MSE_train"
   ]
  },
  {
   "cell_type": "code",
   "execution_count": 19,
   "id": "5efb2e20",
   "metadata": {},
   "outputs": [
    {
     "data": {
      "text/plain": [
       "0.748087259862344"
      ]
     },
     "execution_count": 19,
     "metadata": {},
     "output_type": "execute_result"
    }
   ],
   "source": [
    "r2_train= r2_score(y_true= y_train, y_pred= y_train_pred)\n",
    "r2_train"
   ]
  },
  {
   "cell_type": "markdown",
   "id": "2b209685",
   "metadata": {},
   "source": [
    "### 6. Test the model on test data - 1 point"
   ]
  },
  {
   "cell_type": "markdown",
   "id": "33e330a2-7025-4f92-94ce-abd5cc7002fe",
   "metadata": {},
   "source": [
    "**6.1. Print the MSE and r2 on test data. Is it very different from the result on training data? (1 point)**"
   ]
  },
  {
   "cell_type": "code",
   "execution_count": 20,
   "id": "c3238704-489b-478f-bf1f-f3719347a074",
   "metadata": {},
   "outputs": [],
   "source": [
    "y_test_pred = lr.predict(X_test_scaled)"
   ]
  },
  {
   "cell_type": "code",
   "execution_count": 21,
   "id": "d4e32027",
   "metadata": {},
   "outputs": [
    {
     "data": {
      "text/plain": [
       "25.182477578236547"
      ]
     },
     "execution_count": 21,
     "metadata": {},
     "output_type": "execute_result"
    }
   ],
   "source": [
    "# YOUR CODE HERE\n",
    "MSE_test= mean_squared_error(y_true= y_test, y_pred= y_test_pred)\n",
    "MSE_test"
   ]
  },
  {
   "cell_type": "code",
   "execution_count": 22,
   "id": "9bb6c56d",
   "metadata": {},
   "outputs": [
    {
     "data": {
      "text/plain": [
       "0.6403897651093928"
      ]
     },
     "execution_count": 22,
     "metadata": {},
     "output_type": "execute_result"
    }
   ],
   "source": [
    "r2_test= r2_score(y_true= y_test, y_pred= y_test_pred)\n",
    "r2_test"
   ]
  },
  {
   "cell_type": "markdown",
   "id": "bac27373",
   "metadata": {
    "tags": []
   },
   "source": [
    "### 7. Plot results on test data(using matplotlib) - 2 points\n",
    "\n",
    " * In the test data, you have the real values of the target, and you also have predictions for each row of the test data.\n",
    " * Plot a scatter plot of the real value (x axis) and the predictions (y axis) on a single plot so that you can visualize how the predictions look as compared to the ground truth (use figsize=(8,8))\n",
    " * Plot a x=y red line (45 angle line) to observe how much the real and predicted values differ among them."
   ]
  },
  {
   "cell_type": "code",
   "execution_count": 23,
   "id": "e5d430ae-5f16-47ee-b967-50ca0feab206",
   "metadata": {},
   "outputs": [
    {
     "data": {
      "text/html": [
       "<div>\n",
       "<style scoped>\n",
       "    .dataframe tbody tr th:only-of-type {\n",
       "        vertical-align: middle;\n",
       "    }\n",
       "\n",
       "    .dataframe tbody tr th {\n",
       "        vertical-align: top;\n",
       "    }\n",
       "\n",
       "    .dataframe thead th {\n",
       "        text-align: right;\n",
       "    }\n",
       "</style>\n",
       "<table border=\"1\" class=\"dataframe\">\n",
       "  <thead>\n",
       "    <tr style=\"text-align: right;\">\n",
       "      <th></th>\n",
       "      <th>y_test</th>\n",
       "      <th>y_test_pred</th>\n",
       "    </tr>\n",
       "  </thead>\n",
       "  <tbody>\n",
       "    <tr>\n",
       "      <th>0</th>\n",
       "      <td>23.6</td>\n",
       "      <td>[31.425329579095063]</td>\n",
       "    </tr>\n",
       "    <tr>\n",
       "      <th>1</th>\n",
       "      <td>32.4</td>\n",
       "      <td>[39.247108524254294]</td>\n",
       "    </tr>\n",
       "    <tr>\n",
       "      <th>2</th>\n",
       "      <td>13.6</td>\n",
       "      <td>[16.48633554904505]</td>\n",
       "    </tr>\n",
       "    <tr>\n",
       "      <th>3</th>\n",
       "      <td>22.8</td>\n",
       "      <td>[27.02173735170682]</td>\n",
       "    </tr>\n",
       "    <tr>\n",
       "      <th>4</th>\n",
       "      <td>16.1</td>\n",
       "      <td>[20.001642796338267]</td>\n",
       "    </tr>\n",
       "    <tr>\n",
       "      <th>...</th>\n",
       "      <td>...</td>\n",
       "      <td>...</td>\n",
       "    </tr>\n",
       "    <tr>\n",
       "      <th>122</th>\n",
       "      <td>8.8</td>\n",
       "      <td>[5.980838921931049]</td>\n",
       "    </tr>\n",
       "    <tr>\n",
       "      <th>123</th>\n",
       "      <td>19.2</td>\n",
       "      <td>[25.79643712858736]</td>\n",
       "    </tr>\n",
       "    <tr>\n",
       "      <th>124</th>\n",
       "      <td>25.3</td>\n",
       "      <td>[27.85694681012188]</td>\n",
       "    </tr>\n",
       "    <tr>\n",
       "      <th>125</th>\n",
       "      <td>20.4</td>\n",
       "      <td>[24.52359765780528]</td>\n",
       "    </tr>\n",
       "    <tr>\n",
       "      <th>126</th>\n",
       "      <td>23.1</td>\n",
       "      <td>[26.987745449007825]</td>\n",
       "    </tr>\n",
       "  </tbody>\n",
       "</table>\n",
       "<p>127 rows × 2 columns</p>\n",
       "</div>"
      ],
      "text/plain": [
       "     y_test           y_test_pred\n",
       "0      23.6  [31.425329579095063]\n",
       "1      32.4  [39.247108524254294]\n",
       "2      13.6   [16.48633554904505]\n",
       "3      22.8   [27.02173735170682]\n",
       "4      16.1  [20.001642796338267]\n",
       "..      ...                   ...\n",
       "122     8.8   [5.980838921931049]\n",
       "123    19.2   [25.79643712858736]\n",
       "124    25.3   [27.85694681012188]\n",
       "125    20.4   [24.52359765780528]\n",
       "126    23.1  [26.987745449007825]\n",
       "\n",
       "[127 rows x 2 columns]"
      ]
     },
     "execution_count": 23,
     "metadata": {},
     "output_type": "execute_result"
    }
   ],
   "source": [
    "# YOUR CODE HERE\n",
    "y_test_list = y_test['MV'].tolist()\n",
    "#y_test_list\n",
    "y_test_pred_list = np.array(y_test_pred).tolist()\n",
    "#y_test_pred_list\n",
    "\n",
    "d = {'y_test': y_test_list, 'y_test_pred': y_test_pred_list}\n",
    "df_4_plot=pd.DataFrame(data= d)\n",
    "df_4_plot\n"
   ]
  },
  {
   "cell_type": "code",
   "execution_count": 24,
   "id": "e755d87b",
   "metadata": {},
   "outputs": [],
   "source": [
    "# y_test_list"
   ]
  },
  {
   "cell_type": "code",
   "execution_count": 25,
   "id": "8a7c0d5d",
   "metadata": {},
   "outputs": [],
   "source": [
    "# y_test_pred_list"
   ]
  },
  {
   "cell_type": "code",
   "execution_count": 26,
   "id": "c092f6f7",
   "metadata": {},
   "outputs": [
    {
     "data": {
      "text/plain": [
       "<matplotlib.legend.Legend at 0x25c7bc14dd0>"
      ]
     },
     "execution_count": 26,
     "metadata": {},
     "output_type": "execute_result"
    },
    {
     "data": {
      "image/png": "[encoded data removed]",
      "text/plain": [
       "<Figure size 800x800 with 1 Axes>"
      ]
     },
     "metadata": {},
     "output_type": "display_data"
    }
   ],
   "source": [
    "plt.figure(figsize=(8, 8))\n",
    "plt.scatter(y_test_list, y_test_pred_list, color='blue')\n",
    "\n",
    "# Plotting the x=y \n",
    "x=y\n",
    "plt.plot(x, y, color='red', linestyle='--', label='x=y')\n",
    "\n",
    "plt.xlabel('real values')\n",
    "plt.ylabel('predictions')\n",
    "plt.title('Plot results on test data')\n",
    "plt.legend()\n"
   ]
  },
  {
   "cell_type": "markdown",
   "id": "376960c0",
   "metadata": {},
   "source": [
    "## Part 2 - Clustering - 5 points"
   ]
  },
  {
   "cell_type": "markdown",
   "id": "5d2134e5",
   "metadata": {},
   "source": [
    "#### 8. Load Data - 1 point\n",
    "- Load the \"minute_weather.csv\" into the Pandas dataframe called `weather`\n",
    "- Drop the two columns [\"rowID\", \"hpwren_timestamp\"] from the dataframe\n",
    "- Print the `info` of the dataframe\n",
    "\n",
    "Unlike the regression problem, all remaining columns are features here i.e. there is no `target` variable"
   ]
  },
  {
   "cell_type": "code",
   "execution_count": 27,
   "id": "e196a524-cbf1-4b5b-8393-99fd03b04905",
   "metadata": {},
   "outputs": [],
   "source": [
    "weather = pd.read_csv('minute_weather.csv')\n",
    "weather = weather.dropna()"
   ]
  },
  {
   "cell_type": "code",
   "execution_count": 28,
   "id": "9b1fc764",
   "metadata": {},
   "outputs": [
    {
     "data": {
      "text/html": [
       "<div>\n",
       "<style scoped>\n",
       "    .dataframe tbody tr th:only-of-type {\n",
       "        vertical-align: middle;\n",
       "    }\n",
       "\n",
       "    .dataframe tbody tr th {\n",
       "        vertical-align: top;\n",
       "    }\n",
       "\n",
       "    .dataframe thead th {\n",
       "        text-align: right;\n",
       "    }\n",
       "</style>\n",
       "<table border=\"1\" class=\"dataframe\">\n",
       "  <thead>\n",
       "    <tr style=\"text-align: right;\">\n",
       "      <th></th>\n",
       "      <th>air_pressure</th>\n",
       "      <th>air_temp</th>\n",
       "      <th>avg_wind_direction</th>\n",
       "      <th>avg_wind_speed</th>\n",
       "      <th>max_wind_direction</th>\n",
       "      <th>max_wind_speed</th>\n",
       "      <th>min_wind_direction</th>\n",
       "      <th>min_wind_speed</th>\n",
       "      <th>rain_accumulation</th>\n",
       "      <th>rain_duration</th>\n",
       "      <th>relative_humidity</th>\n",
       "    </tr>\n",
       "  </thead>\n",
       "  <tbody>\n",
       "    <tr>\n",
       "      <th>1</th>\n",
       "      <td>912.3</td>\n",
       "      <td>63.86</td>\n",
       "      <td>161.0</td>\n",
       "      <td>0.8</td>\n",
       "      <td>215.0</td>\n",
       "      <td>1.5</td>\n",
       "      <td>43.0</td>\n",
       "      <td>0.2</td>\n",
       "      <td>0.0</td>\n",
       "      <td>0.0</td>\n",
       "      <td>39.9</td>\n",
       "    </tr>\n",
       "    <tr>\n",
       "      <th>2</th>\n",
       "      <td>912.3</td>\n",
       "      <td>64.22</td>\n",
       "      <td>77.0</td>\n",
       "      <td>0.7</td>\n",
       "      <td>143.0</td>\n",
       "      <td>1.2</td>\n",
       "      <td>324.0</td>\n",
       "      <td>0.3</td>\n",
       "      <td>0.0</td>\n",
       "      <td>0.0</td>\n",
       "      <td>43.0</td>\n",
       "    </tr>\n",
       "    <tr>\n",
       "      <th>3</th>\n",
       "      <td>912.3</td>\n",
       "      <td>64.40</td>\n",
       "      <td>89.0</td>\n",
       "      <td>1.2</td>\n",
       "      <td>112.0</td>\n",
       "      <td>1.6</td>\n",
       "      <td>12.0</td>\n",
       "      <td>0.7</td>\n",
       "      <td>0.0</td>\n",
       "      <td>0.0</td>\n",
       "      <td>49.5</td>\n",
       "    </tr>\n",
       "    <tr>\n",
       "      <th>4</th>\n",
       "      <td>912.3</td>\n",
       "      <td>64.40</td>\n",
       "      <td>185.0</td>\n",
       "      <td>0.4</td>\n",
       "      <td>260.0</td>\n",
       "      <td>1.0</td>\n",
       "      <td>100.0</td>\n",
       "      <td>0.1</td>\n",
       "      <td>0.0</td>\n",
       "      <td>0.0</td>\n",
       "      <td>58.8</td>\n",
       "    </tr>\n",
       "    <tr>\n",
       "      <th>5</th>\n",
       "      <td>912.3</td>\n",
       "      <td>63.50</td>\n",
       "      <td>76.0</td>\n",
       "      <td>2.5</td>\n",
       "      <td>92.0</td>\n",
       "      <td>3.0</td>\n",
       "      <td>61.0</td>\n",
       "      <td>2.0</td>\n",
       "      <td>0.0</td>\n",
       "      <td>0.0</td>\n",
       "      <td>62.6</td>\n",
       "    </tr>\n",
       "    <tr>\n",
       "      <th>...</th>\n",
       "      <td>...</td>\n",
       "      <td>...</td>\n",
       "      <td>...</td>\n",
       "      <td>...</td>\n",
       "      <td>...</td>\n",
       "      <td>...</td>\n",
       "      <td>...</td>\n",
       "      <td>...</td>\n",
       "      <td>...</td>\n",
       "      <td>...</td>\n",
       "      <td>...</td>\n",
       "    </tr>\n",
       "    <tr>\n",
       "      <th>1587252</th>\n",
       "      <td>915.9</td>\n",
       "      <td>74.66</td>\n",
       "      <td>1.0</td>\n",
       "      <td>1.8</td>\n",
       "      <td>11.0</td>\n",
       "      <td>2.1</td>\n",
       "      <td>357.0</td>\n",
       "      <td>1.6</td>\n",
       "      <td>0.0</td>\n",
       "      <td>0.0</td>\n",
       "      <td>46.3</td>\n",
       "    </tr>\n",
       "    <tr>\n",
       "      <th>1587253</th>\n",
       "      <td>915.9</td>\n",
       "      <td>74.66</td>\n",
       "      <td>9.0</td>\n",
       "      <td>1.6</td>\n",
       "      <td>19.0</td>\n",
       "      <td>1.8</td>\n",
       "      <td>353.0</td>\n",
       "      <td>1.4</td>\n",
       "      <td>0.0</td>\n",
       "      <td>0.0</td>\n",
       "      <td>46.2</td>\n",
       "    </tr>\n",
       "    <tr>\n",
       "      <th>1587254</th>\n",
       "      <td>915.9</td>\n",
       "      <td>74.66</td>\n",
       "      <td>15.0</td>\n",
       "      <td>1.7</td>\n",
       "      <td>42.0</td>\n",
       "      <td>2.3</td>\n",
       "      <td>353.0</td>\n",
       "      <td>1.2</td>\n",
       "      <td>0.0</td>\n",
       "      <td>0.0</td>\n",
       "      <td>46.3</td>\n",
       "    </tr>\n",
       "    <tr>\n",
       "      <th>1587255</th>\n",
       "      <td>915.9</td>\n",
       "      <td>74.66</td>\n",
       "      <td>8.0</td>\n",
       "      <td>1.8</td>\n",
       "      <td>24.0</td>\n",
       "      <td>2.2</td>\n",
       "      <td>355.0</td>\n",
       "      <td>1.4</td>\n",
       "      <td>0.0</td>\n",
       "      <td>0.0</td>\n",
       "      <td>46.2</td>\n",
       "    </tr>\n",
       "    <tr>\n",
       "      <th>1587256</th>\n",
       "      <td>915.9</td>\n",
       "      <td>74.66</td>\n",
       "      <td>12.0</td>\n",
       "      <td>1.9</td>\n",
       "      <td>21.0</td>\n",
       "      <td>2.2</td>\n",
       "      <td>357.0</td>\n",
       "      <td>1.5</td>\n",
       "      <td>0.0</td>\n",
       "      <td>0.0</td>\n",
       "      <td>46.3</td>\n",
       "    </tr>\n",
       "  </tbody>\n",
       "</table>\n",
       "<p>1586823 rows × 11 columns</p>\n",
       "</div>"
      ],
      "text/plain": [
       "         air_pressure  air_temp  avg_wind_direction  avg_wind_speed  \\\n",
       "1               912.3     63.86               161.0             0.8   \n",
       "2               912.3     64.22                77.0             0.7   \n",
       "3               912.3     64.40                89.0             1.2   \n",
       "4               912.3     64.40               185.0             0.4   \n",
       "5               912.3     63.50                76.0             2.5   \n",
       "...               ...       ...                 ...             ...   \n",
       "1587252         915.9     74.66                 1.0             1.8   \n",
       "1587253         915.9     74.66                 9.0             1.6   \n",
       "1587254         915.9     74.66                15.0             1.7   \n",
       "1587255         915.9     74.66                 8.0             1.8   \n",
       "1587256         915.9     74.66                12.0             1.9   \n",
       "\n",
       "         max_wind_direction  max_wind_speed  min_wind_direction  \\\n",
       "1                     215.0             1.5                43.0   \n",
       "2                     143.0             1.2               324.0   \n",
       "3                     112.0             1.6                12.0   \n",
       "4                     260.0             1.0               100.0   \n",
       "5                      92.0             3.0                61.0   \n",
       "...                     ...             ...                 ...   \n",
       "1587252                11.0             2.1               357.0   \n",
       "1587253                19.0             1.8               353.0   \n",
       "1587254                42.0             2.3               353.0   \n",
       "1587255                24.0             2.2               355.0   \n",
       "1587256                21.0             2.2               357.0   \n",
       "\n",
       "         min_wind_speed  rain_accumulation  rain_duration  relative_humidity  \n",
       "1                   0.2                0.0            0.0               39.9  \n",
       "2                   0.3                0.0            0.0               43.0  \n",
       "3                   0.7                0.0            0.0               49.5  \n",
       "4                   0.1                0.0            0.0               58.8  \n",
       "5                   2.0                0.0            0.0               62.6  \n",
       "...                 ...                ...            ...                ...  \n",
       "1587252             1.6                0.0            0.0               46.3  \n",
       "1587253             1.4                0.0            0.0               46.2  \n",
       "1587254             1.2                0.0            0.0               46.3  \n",
       "1587255             1.4                0.0            0.0               46.2  \n",
       "1587256             1.5                0.0            0.0               46.3  \n",
       "\n",
       "[1586823 rows x 11 columns]"
      ]
     },
     "execution_count": 28,
     "metadata": {},
     "output_type": "execute_result"
    }
   ],
   "source": [
    "# YOUR CODE HERE\n",
    "weather= weather.drop(columns=['rowID', 'hpwren_timestamp'])\n",
    "weather"
   ]
  },
  {
   "cell_type": "code",
   "execution_count": 29,
   "id": "1f535877",
   "metadata": {},
   "outputs": [
    {
     "name": "stdout",
     "output_type": "stream",
     "text": [
      "<class 'pandas.core.frame.DataFrame'>\n",
      "Int64Index: 1586823 entries, 1 to 1587256\n",
      "Data columns (total 11 columns):\n",
      " #   Column              Non-Null Count    Dtype  \n",
      "---  ------              --------------    -----  \n",
      " 0   air_pressure        1586823 non-null  float64\n",
      " 1   air_temp            1586823 non-null  float64\n",
      " 2   avg_wind_direction  1586823 non-null  float64\n",
      " 3   avg_wind_speed      1586823 non-null  float64\n",
      " 4   max_wind_direction  1586823 non-null  float64\n",
      " 5   max_wind_speed      1586823 non-null  float64\n",
      " 6   min_wind_direction  1586823 non-null  float64\n",
      " 7   min_wind_speed      1586823 non-null  float64\n",
      " 8   rain_accumulation   1586823 non-null  float64\n",
      " 9   rain_duration       1586823 non-null  float64\n",
      " 10  relative_humidity   1586823 non-null  float64\n",
      "dtypes: float64(11)\n",
      "memory usage: 145.3 MB\n"
     ]
    }
   ],
   "source": [
    "weather.info()"
   ]
  },
  {
   "cell_type": "markdown",
   "id": "d6d18c10",
   "metadata": {},
   "source": [
    "#### 9. Data Splitting - 1 points\n",
    "\n",
    "**Split into train and test data**\n",
    "* Split the dataset into train dataframe and test dataframe with a 75:25 split between them (25% of the data goes for test set)\n",
    "* Pass `random_state=seed` to train_test_split function to reproduce results"
   ]
  },
  {
   "cell_type": "code",
   "execution_count": 30,
   "id": "02baaa0e",
   "metadata": {},
   "outputs": [],
   "source": [
    "# I question this. For clustering, do I need the test dataset? why split?"
   ]
  },
  {
   "cell_type": "code",
   "execution_count": 31,
   "id": "8fe0a522",
   "metadata": {},
   "outputs": [],
   "source": [
    "# YOUR CODE HERE \n",
    "X2 = weather\n",
    "X2_train, X2_test = train_test_split(X2, test_size=0.25, random_state=seed)"
   ]
  },
  {
   "cell_type": "code",
   "execution_count": 32,
   "id": "d3dba77b",
   "metadata": {},
   "outputs": [],
   "source": [
    "#X2_train"
   ]
  },
  {
   "cell_type": "code",
   "execution_count": 33,
   "id": "fed2076c",
   "metadata": {},
   "outputs": [],
   "source": [
    "#X2_test"
   ]
  },
  {
   "cell_type": "code",
   "execution_count": 34,
   "id": "aab56c14",
   "metadata": {},
   "outputs": [
    {
     "name": "stdout",
     "output_type": "stream",
     "text": [
      "rows in train: 1190117 \n",
      " rows in test: 396706\n"
     ]
    }
   ],
   "source": [
    "print('rows in train:', X2_train.shape[0], '\\n', 'rows in test:', X2_test.shape[0])"
   ]
  },
  {
   "cell_type": "markdown",
   "id": "785feecc",
   "metadata": {},
   "source": [
    "#### 10. Standardize the data - 1 points\n",
    "\n",
    "* Use the StandardScaler to standardize your data. Unlike the regression problem, all columns are features here i.e. there is no `target` variable\n",
    "* **IMPORTANT** - Use only the training data for scaling\n",
    "* Print out the mean and standard deviation along the feature columns of both the train and the test dataset after standardization. What do you observe?"
   ]
  },
  {
   "cell_type": "code",
   "execution_count": 35,
   "id": "4461481f-e633-414e-85e9-e077d9622a7e",
   "metadata": {},
   "outputs": [
    {
     "data": {
      "text/plain": [
       "array([[ 4.49830847e-01,  9.14740025e-01,  2.20241911e-01, ...,\n",
       "        -1.49997853e-03, -7.76815468e-03,  5.49287441e-01],\n",
       "       [-2.40249660e+00, -1.34923814e-01,  2.30747390e-01, ...,\n",
       "        -1.49997853e-03, -7.76815468e-03,  5.18763512e-01],\n",
       "       [ 4.82616220e-01,  9.60377583e-01,  4.93384363e-01, ...,\n",
       "        -1.49997853e-03, -7.76815468e-03, -3.43537468e-01],\n",
       "       ...,\n",
       "       [ 2.20333236e-01, -9.41187342e-01,  4.30351489e-01, ...,\n",
       "        -1.49997853e-03, -7.76815468e-03, -5.57204967e-01],\n",
       "       [ 1.07275293e+00,  2.91026729e-01,  4.16487695e-02, ...,\n",
       "        -1.49997853e-03, -7.76815468e-03, -9.00599163e-01],\n",
       "       [ 1.26946517e+00, -1.58011316e+00, -6.20196402e-01, ...,\n",
       "        -1.49997853e-03, -7.76815468e-03, -9.42569564e-01]])"
      ]
     },
     "execution_count": 35,
     "metadata": {},
     "output_type": "execute_result"
    }
   ],
   "source": [
    "# YOUR CODE HERE\n",
    "X2_train_scaled = sc.fit_transform(X2_train)\n",
    "X2_train_scaled"
   ]
  },
  {
   "cell_type": "code",
   "execution_count": 36,
   "id": "4d709d6d",
   "metadata": {},
   "outputs": [
    {
     "name": "stdout",
     "output_type": "stream",
     "text": [
      "[-1.81612881e-13 -1.57331235e-15 -4.46941176e-17  2.64815334e-17\n",
      "  3.38101507e-17  1.07335139e-16 -8.82553594e-17  3.71010133e-16\n",
      "  4.18671520e-19  2.23888513e-21 -6.90746812e-16]\n",
      "[1. 1. 1. 1. 1. 1. 1. 1. 1. 1. 1.]\n"
     ]
    }
   ],
   "source": [
    "# 1. Print out the mean and standard deviation along the feature columns of X2_train_scaled\n",
    "print(X2_train_scaled.mean(axis=0))\n",
    "print(X2_train_scaled.std(axis=0))"
   ]
  },
  {
   "cell_type": "code",
   "execution_count": 37,
   "id": "55ff645e",
   "metadata": {},
   "outputs": [
    {
     "name": "stdout",
     "output_type": "stream",
     "text": [
      "air_pressure          916.837135\n",
      "air_temp               61.851667\n",
      "avg_wind_direction    161.755123\n",
      "avg_wind_speed          2.774651\n",
      "max_wind_direction    163.128448\n",
      "max_wind_speed          3.401956\n",
      "min_wind_direction    166.825160\n",
      "min_wind_speed          2.132103\n",
      "rain_accumulation       0.004772\n",
      "rain_duration           0.719684\n",
      "relative_humidity      47.575211\n",
      "dtype: float64\n",
      "air_pressure            3.055599\n",
      "air_temp               11.833793\n",
      "avg_wind_direction     95.266932\n",
      "avg_wind_speed          2.060476\n",
      "max_wind_direction     92.371182\n",
      "max_wind_speed          2.423819\n",
      "min_wind_direction     97.530588\n",
      "min_wind_speed          1.745235\n",
      "rain_accumulation       1.629393\n",
      "rain_duration         123.032646\n",
      "relative_humidity      26.206629\n",
      "dtype: float64\n"
     ]
    }
   ],
   "source": [
    "# 2. Print out the mean and standard deviation along the feature columns of X2_test\n",
    "print(X2_test.mean(axis=0))\n",
    "print(X2_test.std(axis=0))"
   ]
  },
  {
   "cell_type": "markdown",
   "id": "4f1150fb",
   "metadata": {},
   "source": [
    "#### 11. Build a KMeans Clustering Model - 2 points\n",
    "- Use the standardized training dataset to fit a K-means model with 9 clusters\n",
    "    * Pass `random_state=seed` to `KMeans` for reproducing results\n",
    "- Print out the cluster centers found by the model"
   ]
  },
  {
   "cell_type": "code",
   "execution_count": 38,
   "id": "4b23e526-c9fc-48d2-b603-edeeae5eeacd",
   "metadata": {},
   "outputs": [
    {
     "data": {
      "text/html": [
       "<style>#sk-container-id-2 {color: black;}#sk-container-id-2 pre{padding: 0;}#sk-container-id-2 div.sk-toggleable {background-color: white;}#sk-container-id-2 label.sk-toggleable__label {cursor: pointer;display: block;width: 100%;margin-bottom: 0;padding: 0.3em;box-sizing: border-box;text-align: center;}#sk-container-id-2 label.sk-toggleable__label-arrow:before {content: \"▸\";float: left;margin-right: 0.25em;color: #696969;}#sk-container-id-2 label.sk-toggleable__label-arrow:hover:before {color: black;}#sk-container-id-2 div.sk-estimator:hover label.sk-toggleable__label-arrow:before {color: black;}#sk-container-id-2 div.sk-toggleable__content {max-height: 0;max-width: 0;overflow: hidden;text-align: left;background-color: #f0f8ff;}#sk-container-id-2 div.sk-toggleable__content pre {margin: 0.2em;color: black;border-radius: 0.25em;background-color: #f0f8ff;}#sk-container-id-2 input.sk-toggleable__control:checked~div.sk-toggleable__content {max-height: 200px;max-width: 100%;overflow: auto;}#sk-container-id-2 input.sk-toggleable__control:checked~label.sk-toggleable__label-arrow:before {content: \"▾\";}#sk-container-id-2 div.sk-estimator input.sk-toggleable__control:checked~label.sk-toggleable__label {background-color: #d4ebff;}#sk-container-id-2 div.sk-label input.sk-toggleable__control:checked~label.sk-toggleable__label {background-color: #d4ebff;}#sk-container-id-2 input.sk-hidden--visually {border: 0;clip: rect(1px 1px 1px 1px);clip: rect(1px, 1px, 1px, 1px);height: 1px;margin: -1px;overflow: hidden;padding: 0;position: absolute;width: 1px;}#sk-container-id-2 div.sk-estimator {font-family: monospace;background-color: #f0f8ff;border: 1px dotted black;border-radius: 0.25em;box-sizing: border-box;margin-bottom: 0.5em;}#sk-container-id-2 div.sk-estimator:hover {background-color: #d4ebff;}#sk-container-id-2 div.sk-parallel-item::after {content: \"\";width: 100%;border-bottom: 1px solid gray;flex-grow: 1;}#sk-container-id-2 div.sk-label:hover label.sk-toggleable__label {background-color: #d4ebff;}#sk-container-id-2 div.sk-serial::before {content: \"\";position: absolute;border-left: 1px solid gray;box-sizing: border-box;top: 0;bottom: 0;left: 50%;z-index: 0;}#sk-container-id-2 div.sk-serial {display: flex;flex-direction: column;align-items: center;background-color: white;padding-right: 0.2em;padding-left: 0.2em;position: relative;}#sk-container-id-2 div.sk-item {position: relative;z-index: 1;}#sk-container-id-2 div.sk-parallel {display: flex;align-items: stretch;justify-content: center;background-color: white;position: relative;}#sk-container-id-2 div.sk-item::before, #sk-container-id-2 div.sk-parallel-item::before {content: \"\";position: absolute;border-left: 1px solid gray;box-sizing: border-box;top: 0;bottom: 0;left: 50%;z-index: -1;}#sk-container-id-2 div.sk-parallel-item {display: flex;flex-direction: column;z-index: 1;position: relative;background-color: white;}#sk-container-id-2 div.sk-parallel-item:first-child::after {align-self: flex-end;width: 50%;}#sk-container-id-2 div.sk-parallel-item:last-child::after {align-self: flex-start;width: 50%;}#sk-container-id-2 div.sk-parallel-item:only-child::after {width: 0;}#sk-container-id-2 div.sk-dashed-wrapped {border: 1px dashed gray;margin: 0 0.4em 0.5em 0.4em;box-sizing: border-box;padding-bottom: 0.4em;background-color: white;}#sk-container-id-2 div.sk-label label {font-family: monospace;font-weight: bold;display: inline-block;line-height: 1.2em;}#sk-container-id-2 div.sk-label-container {text-align: center;}#sk-container-id-2 div.sk-container {/* jupyter's `normalize.less` sets `[hidden] { display: none; }` but bootstrap.min.css set `[hidden] { display: none !important; }` so we also need the `!important` here to be able to override the default hidden behavior on the sphinx rendered scikit-learn.org. See: https://github.com/scikit-learn/scikit-learn/issues/21755 */display: inline-block !important;position: relative;}#sk-container-id-2 div.sk-text-repr-fallback {display: none;}</style><div id=\"sk-container-id-2\" class=\"sk-top-container\"><div class=\"sk-text-repr-fallback\"><pre>KMeans(n_clusters=9, random_state=42)</pre><b>In a Jupyter environment, please rerun this cell to show the HTML representation or trust the notebook. <br />On GitHub, the HTML representation is unable to render, please try loading this page with nbviewer.org.</b></div><div class=\"sk-container\" hidden><div class=\"sk-item\"><div class=\"sk-estimator sk-toggleable\"><input class=\"sk-toggleable__control sk-hidden--visually\" id=\"sk-estimator-id-2\" type=\"checkbox\" checked><label for=\"sk-estimator-id-2\" class=\"sk-toggleable__label sk-toggleable__label-arrow\">KMeans</label><div class=\"sk-toggleable__content\"><pre>KMeans(n_clusters=9, random_state=42)</pre></div></div></div></div></div>"
      ],
      "text/plain": [
       "KMeans(n_clusters=9, random_state=42)"
      ]
     },
     "execution_count": 38,
     "metadata": {},
     "output_type": "execute_result"
    }
   ],
   "source": [
    "# YOUR CODE HERE\n",
    "cluster = KMeans(n_clusters=9, random_state=seed) \n",
    "cluster"
   ]
  },
  {
   "cell_type": "code",
   "execution_count": 39,
   "id": "b09f953a",
   "metadata": {},
   "outputs": [
    {
     "name": "stderr",
     "output_type": "stream",
     "text": [
      "C:\\Users\\ljw12\\anaconda3\\Lib\\site-packages\\sklearn\\cluster\\_kmeans.py:1412: FutureWarning: The default value of `n_init` will change from 10 to 'auto' in 1.4. Set the value of `n_init` explicitly to suppress the warning\n",
      "  super()._check_params_vs_input(X, default_n_init=10)\n"
     ]
    },
    {
     "data": {
      "text/plain": [
       "array([5, 8, 1, ..., 1, 1, 0])"
      ]
     },
     "execution_count": 39,
     "metadata": {},
     "output_type": "execute_result"
    }
   ],
   "source": [
    "y_predicted = cluster.fit_predict(X2_train_scaled)\n",
    "y_predicted"
   ]
  },
  {
   "cell_type": "code",
   "execution_count": 40,
   "id": "e20bac6a",
   "metadata": {},
   "outputs": [
    {
     "data": {
      "text/plain": [
       "array([[ 2.59186155e-01,  1.77229341e-01, -1.13800213e+00,\n",
       "        -4.92498022e-01, -1.02995070e+00, -5.17318955e-01,\n",
       "        -1.30487697e+00, -4.33501753e-01, -1.40551114e-03,\n",
       "        -5.43247193e-03, -3.19959784e-01],\n",
       "       [ 8.95711279e-02,  6.80185268e-01,  7.17272978e-01,\n",
       "        -6.64370519e-01,  9.27903093e-01, -6.45766292e-01,\n",
       "         4.50681554e-01, -6.67716430e-01, -1.48648697e-03,\n",
       "        -7.45817619e-03, -5.73094275e-01],\n",
       "       [ 4.82616220e-01,  5.04002001e-01, -1.20850322e+00,\n",
       "         4.08852888e+00, -1.08800738e+00,  4.12757106e+00,\n",
       "        -1.34263817e+00,  3.93411057e+00,  1.08726800e+03,\n",
       "         9.25183883e+02, -1.16005256e+00],\n",
       "       [ 1.24193833e+00, -2.13892920e-01, -1.15109914e+00,\n",
       "         1.78600672e+00, -1.05366019e+00,  1.87806806e+00,\n",
       "        -1.30045056e+00,  1.59025838e+00, -1.46429890e-03,\n",
       "        -6.46565105e-03, -1.10551068e+00],\n",
       "       [-2.78552796e-01, -1.02659075e+00,  4.44163640e-01,\n",
       "        -3.17952641e-01,  6.10691943e-01, -3.02630595e-01,\n",
       "         2.09025119e-01, -3.33135260e-01, -7.20294231e-04,\n",
       "         4.36286874e-03,  1.22545367e+00],\n",
       "       [-2.03209965e-01,  5.55829819e-01,  3.90297056e-01,\n",
       "         5.31502889e-01,  4.92231311e-01,  4.70941271e-01,\n",
       "         2.28672831e-01,  5.79908071e-01, -1.47528847e-03,\n",
       "        -7.29631242e-03, -1.80978453e-01],\n",
       "       [ 2.98798038e-01,  2.72844578e-01, -1.52548357e+00,\n",
       "        -6.12140958e-01, -1.20420821e+00, -5.38373409e-01,\n",
       "         1.79789975e+00, -6.63090601e-01, -1.47180773e-03,\n",
       "        -6.56324719e-03, -3.58675706e-01],\n",
       "       [ 2.40551332e-01,  2.80362396e-01,  1.89052468e+00,\n",
       "        -6.47442406e-01, -1.54853392e+00, -5.69291116e-01,\n",
       "         1.46597641e+00, -7.06012734e-01, -1.48126814e-03,\n",
       "        -6.83431981e-03, -2.64751517e-01],\n",
       "       [-1.04285756e+00, -8.87297792e-01,  4.26223009e-01,\n",
       "         1.70576198e+00,  5.16261863e-01,  1.64184859e+00,\n",
       "         2.55708306e-01,  1.72900113e+00,  2.79111261e-03,\n",
       "         3.35197070e-02,  9.66315596e-01]])"
      ]
     },
     "execution_count": 40,
     "metadata": {},
     "output_type": "execute_result"
    }
   ],
   "source": [
    "centers = cluster.cluster_centers_\n",
    "centers"
   ]
  },
  {
   "cell_type": "markdown",
   "id": "71939299",
   "metadata": {},
   "source": [
    "## Part 3 - MiniProject Homework - 5 points"
   ]
  },
  {
   "cell_type": "markdown",
   "id": "8bfc1c81",
   "metadata": {},
   "source": [
    "#### 12. Complete Two MiniProject Homeworks (Select two from any of the mini project homework assignments provided by your classmates and embed them below) - 2.5 points each"
   ]
  },
  {
   "cell_type": "code",
   "execution_count": 2,
   "id": "1c98a940",
   "metadata": {},
   "outputs": [
    {
     "data": {
      "text/html": [
       "\n",
       "        <iframe\n",
       "            width=\"800\"\n",
       "            height=\"600\"\n",
       "            src=\"Thanya_Kunghae_Mini Project - Seaborn.ipynb\"\n",
       "            frameborder=\"0\"\n",
       "            allowfullscreen\n",
       "            \n",
       "        ></iframe>\n",
       "        "
      ],
      "text/plain": [
       "<IPython.lib.display.IFrame at 0x23b4b4e7110>"
      ]
     },
     "metadata": {},
     "output_type": "display_data"
    }
   ],
   "source": [
    "# YOUR CODE HERE\n",
    "# 1) Thanya_Kunghae_Mini Project - Seaborn\n",
    "\n",
    "from IPython.display import IFrame\n",
    "notebook_path = 'Thanya_Kunghae_Mini Project - Seaborn.ipynb'\n",
    "display(IFrame(notebook_path, width=800, height=600))\n"
   ]
  },
  {
   "cell_type": "code",
   "execution_count": 3,
   "id": "7df9a4f5",
   "metadata": {},
   "outputs": [
    {
     "data": {
      "text/html": [
       "\n",
       "        <iframe\n",
       "            width=\"800\"\n",
       "            height=\"600\"\n",
       "            src=\"Ritesh_Saxena_Mini_Project-1.ipynb\"\n",
       "            frameborder=\"0\"\n",
       "            allowfullscreen\n",
       "            \n",
       "        ></iframe>\n",
       "        "
      ],
      "text/plain": [
       "<IPython.lib.display.IFrame at 0x23b4b4e7110>"
      ]
     },
     "metadata": {},
     "output_type": "display_data"
    }
   ],
   "source": [
    "# 2) Ritesh_Saxena_Mini_Project-1\n",
    "\n",
    "from IPython.display import IFrame\n",
    "notebook_path = 'Ritesh_Saxena_Mini_Project-1.ipynb'\n",
    "display(IFrame(notebook_path, width=800, height=600))"
   ]
  },
  {
   "cell_type": "code",
   "execution_count": null,
   "id": "db9b8c7a",
   "metadata": {},
   "outputs": [],
   "source": []
  }
 ],
 "metadata": {
  "kernelspec": {
   "display_name": "Python 3 (ipykernel)",
   "language": "python",
   "name": "python3"
  },
  "language_info": {
   "codemirror_mode": {
    "name": "ipython",
    "version": 3
   },
   "file_extension": ".py",
   "mimetype": "text/x-python",
   "name": "python",
   "nbconvert_exporter": "python",
   "pygments_lexer": "ipython3",
   "version": "3.11.5"
  }
 },
 "nbformat": 4,
 "nbformat_minor": 5
}
